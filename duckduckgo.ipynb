{
 "cells": [
  {
   "cell_type": "code",
   "execution_count": 1,
   "id": "0ba3f3cd",
   "metadata": {},
   "outputs": [
    {
     "name": "stdout",
     "output_type": "stream",
     "text": [
      "Collecting duckduckgo-search\n",
      "  Downloading duckduckgo_search-8.0.2-py3-none-any.whl.metadata (16 kB)\n",
      "Collecting click>=8.1.8 (from duckduckgo-search)\n",
      "  Using cached click-8.2.0-py3-none-any.whl.metadata (2.5 kB)\n",
      "Collecting primp>=0.15.0 (from duckduckgo-search)\n",
      "  Downloading primp-0.15.0-cp38-abi3-macosx_11_0_arm64.whl.metadata (13 kB)\n",
      "Collecting lxml>=5.3.0 (from duckduckgo-search)\n",
      "  Downloading lxml-5.4.0-cp310-cp310-macosx_10_9_universal2.whl.metadata (3.5 kB)\n",
      "Downloading duckduckgo_search-8.0.2-py3-none-any.whl (18 kB)\n",
      "Using cached click-8.2.0-py3-none-any.whl (102 kB)\n",
      "Downloading lxml-5.4.0-cp310-cp310-macosx_10_9_universal2.whl (8.1 MB)\n",
      "\u001b[2K   \u001b[90m━━━━━━━━━━━━━━━━━━━━━━━━━━━━━━━━━━━━━━━━\u001b[0m \u001b[32m8.1/8.1 MB\u001b[0m \u001b[31m33.2 MB/s\u001b[0m eta \u001b[36m0:00:00\u001b[0ma \u001b[36m0:00:01\u001b[0m\n",
      "\u001b[?25hDownloading primp-0.15.0-cp38-abi3-macosx_11_0_arm64.whl (3.0 MB)\n",
      "\u001b[2K   \u001b[90m━━━━━━━━━━━━━━━━━━━━━━━━━━━━━━━━━━━━━━━━\u001b[0m \u001b[32m3.0/3.0 MB\u001b[0m \u001b[31m45.5 MB/s\u001b[0m eta \u001b[36m0:00:00\u001b[0m\n",
      "\u001b[?25hInstalling collected packages: primp, lxml, click, duckduckgo-search\n",
      "\u001b[2K   \u001b[90m━━━━━━━━━━━━━━━━━━━━━━━━━━━━━━━━━━━━━━━━\u001b[0m \u001b[32m4/4\u001b[0m [duckduckgo-search]\n",
      "\u001b[1A\u001b[2KSuccessfully installed click-8.2.0 duckduckgo-search-8.0.2 lxml-5.4.0 primp-0.15.0\n"
     ]
    }
   ],
   "source": [
    "!pip install duckduckgo-search"
   ]
  },
  {
   "cell_type": "code",
   "execution_count": 4,
   "id": "b48bdd76",
   "metadata": {},
   "outputs": [
    {
     "name": "stdout",
     "output_type": "stream",
     "text": [
      "[{'title': 'Python A2A Tutorial with Source Code - a2aprotocol.ai', 'href': 'https://a2aprotocol.ai/blog/python-a2a-tutorial-with-source-code', 'body': 'A comprehensive, hands-on guide to building a Python A2A server using the google-a2a library. Includes complete source code, practical examples, and step-by-step implementation details. Learn about agent skills, agent cards, handling tasks, streaming responses, and integrating a local Ollama AI model with Langchain. Perfect for developers looking to implement real-world A2A solutions.'}, {'title': 'GitHub - theailanguage/a2a_samples', 'href': 'https://github.com/theailanguage/a2a_samples', 'body': \"Welcome to the a2a_samples repository! This project contains multiple implementations of AI agents using Google's A2A (Agent-to-Agent) protocol. These implementations demonstrate how to: Set up and run A2A-compliant servers and clients; Use discovery endpoints and standardized task formats; Integrate with Google's ADK (Agent Development Kit)\"}, {'title': 'Getting Started with Google A2A: A Hands-on Tutorial for the ...', 'href': 'https://medium.com/google-cloud/getting-started-with-google-a2a-a-hands-on-tutorial-for-the-agent2agent-protocol-3d3b5e055127', 'body': 'Image by author. Repeat for localhost:10001. Repeat for localhost:10002. Start Chatting: Click the message icon (💬) and the \"+\" button.; Send prompts like the examples mentioned earlier and ...'}, {'title': 'Introduction - Agent2Agent Protocol (A2A) - google.github.io', 'href': 'https://google.github.io/A2A/tutorials/python/1-introduction/', 'body': 'The basic concepts behind the A2A protocol. How to set up a Python environment for A2A development using the SDK. How Agent Skills and Agent Cards describe an agent. How an A2A server handles tasks. How to interact with an A2A server using a client. How streaming capabilities and multi-turn interactions work.'}, {'title': \"How to Build Two Python Agents with Google's A2A Protocol - Step by ...\", 'href': 'https://docs.kanaries.net/articles/build-agent-with-a2a', 'body': \"Google's Agent-to-Agent (A2A) protocol is an open standard that enables different AI agents to communicate and work together, regardless of which framework or vendor they come from (GitHub - google/A2A (opens in a new tab)).In simpler terms, A2A gives your agents a common language for interaction. This tutorial will walk you through creating two simple Python agents - one acting as an A2A ...\"}]\n"
     ]
    }
   ],
   "source": [
    "from duckduckgo_search import DDGS\n",
    "\n",
    "results = DDGS().text(\"write a sample program using google A2A framework\", max_results=5)\n",
    "print(results)"
   ]
  }
 ],
 "metadata": {
  "kernelspec": {
   "display_name": ".venv",
   "language": "python",
   "name": "python3"
  },
  "language_info": {
   "codemirror_mode": {
    "name": "ipython",
    "version": 3
   },
   "file_extension": ".py",
   "mimetype": "text/x-python",
   "name": "python",
   "nbconvert_exporter": "python",
   "pygments_lexer": "ipython3",
   "version": "3.10.17"
  }
 },
 "nbformat": 4,
 "nbformat_minor": 5
}
